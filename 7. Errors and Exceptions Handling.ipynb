{
 "cells": [
  {
   "cell_type": "code",
   "execution_count": 1,
   "id": "e80025ed",
   "metadata": {},
   "outputs": [
    {
     "name": "stdout",
     "output_type": "stream",
     "text": [
      "Successfully\n"
     ]
    }
   ],
   "source": [
    "try:\n",
    "    f = open('test.txt','w')\n",
    "    f.write('Test write this')\n",
    "except IOError:\n",
    "    print('Run with error')\n",
    "else:\n",
    "    print('Successfully')\n",
    "    f.close()"
   ]
  },
  {
   "cell_type": "code",
   "execution_count": 2,
   "id": "ed3aa0e3",
   "metadata": {},
   "outputs": [
    {
     "name": "stdout",
     "output_type": "stream",
     "text": [
      "Run with error\n"
     ]
    }
   ],
   "source": [
    "try:\n",
    "    f = open('test.txt','r')\n",
    "    f.write('Test write this')\n",
    "except IOError:\n",
    "    print('Run with error')\n",
    "else:\n",
    "    print('Successfully')\n",
    "    f.close()"
   ]
  },
  {
   "cell_type": "code",
   "execution_count": 3,
   "id": "0959ed59",
   "metadata": {},
   "outputs": [
    {
     "name": "stdout",
     "output_type": "stream",
     "text": [
      "Run with error\n"
     ]
    }
   ],
   "source": [
    "try:\n",
    "    f = open('test.txt','r')\n",
    "    f.write('Test write this')\n",
    "except:\n",
    "    print('Run with error')\n",
    "else:\n",
    "    print('Successfully')\n",
    "    f.close()"
   ]
  },
  {
   "cell_type": "code",
   "execution_count": 4,
   "id": "77f74997",
   "metadata": {},
   "outputs": [
    {
     "name": "stdout",
     "output_type": "stream",
     "text": [
      "Always execute!\n"
     ]
    }
   ],
   "source": [
    "try:\n",
    "    f = open('test.txt','w')\n",
    "    f.write('Test write this')\n",
    "    f.close()\n",
    "finally:\n",
    "    print('Always execute!')"
   ]
  },
  {
   "cell_type": "code",
   "execution_count": 5,
   "id": "f52a838b",
   "metadata": {},
   "outputs": [],
   "source": [
    "def makenum():\n",
    "    try:\n",
    "        val = int(input(\"Please enter an integer: \"))\n",
    "    except:\n",
    "        print(\"Do not an integer\")\n",
    "    finally:\n",
    "        print(\"Finally block code\")\n",
    "    print(val)"
   ]
  },
  {
   "cell_type": "code",
   "execution_count": 6,
   "id": "95cb2856",
   "metadata": {},
   "outputs": [
    {
     "name": "stdout",
     "output_type": "stream",
     "text": [
      "Please enter an integer: 33\n",
      "Finally block code\n",
      "33\n"
     ]
    }
   ],
   "source": [
    "makenum()"
   ]
  },
  {
   "cell_type": "code",
   "execution_count": 7,
   "id": "8f9a7425",
   "metadata": {},
   "outputs": [
    {
     "name": "stdout",
     "output_type": "stream",
     "text": [
      "Please enter an integer: two\n",
      "Do not an integer\n",
      "Finally block code\n"
     ]
    },
    {
     "ename": "UnboundLocalError",
     "evalue": "local variable 'val' referenced before assignment",
     "output_type": "error",
     "traceback": [
      "\u001b[1;31m---------------------------------------------------------------------------\u001b[0m",
      "\u001b[1;31mUnboundLocalError\u001b[0m                         Traceback (most recent call last)",
      "\u001b[1;32m~\\AppData\\Local\\Temp/ipykernel_9108/323471466.py\u001b[0m in \u001b[0;36m<module>\u001b[1;34m\u001b[0m\n\u001b[1;32m----> 1\u001b[1;33m \u001b[0mmakenum\u001b[0m\u001b[1;33m(\u001b[0m\u001b[1;33m)\u001b[0m\u001b[1;33m\u001b[0m\u001b[1;33m\u001b[0m\u001b[0m\n\u001b[0m",
      "\u001b[1;32m~\\AppData\\Local\\Temp/ipykernel_9108/3115505871.py\u001b[0m in \u001b[0;36mmakenum\u001b[1;34m()\u001b[0m\n\u001b[0;32m      6\u001b[0m     \u001b[1;32mfinally\u001b[0m\u001b[1;33m:\u001b[0m\u001b[1;33m\u001b[0m\u001b[1;33m\u001b[0m\u001b[0m\n\u001b[0;32m      7\u001b[0m         \u001b[0mprint\u001b[0m\u001b[1;33m(\u001b[0m\u001b[1;34m\"Finally block code\"\u001b[0m\u001b[1;33m)\u001b[0m\u001b[1;33m\u001b[0m\u001b[1;33m\u001b[0m\u001b[0m\n\u001b[1;32m----> 8\u001b[1;33m     \u001b[0mprint\u001b[0m\u001b[1;33m(\u001b[0m\u001b[0mval\u001b[0m\u001b[1;33m)\u001b[0m\u001b[1;33m\u001b[0m\u001b[1;33m\u001b[0m\u001b[0m\n\u001b[0m",
      "\u001b[1;31mUnboundLocalError\u001b[0m: local variable 'val' referenced before assignment"
     ]
    }
   ],
   "source": [
    "makenum()"
   ]
  },
  {
   "cell_type": "code",
   "execution_count": 8,
   "id": "9d007cbf",
   "metadata": {},
   "outputs": [],
   "source": [
    "def makenum():\n",
    "    while True:\n",
    "        try:\n",
    "            val = int(input(\"Please enter an integer: \"))\n",
    "        except:\n",
    "            print(\"Do not an integer\")\n",
    "            continue\n",
    "        else:\n",
    "            print(\"That's is an integer\")\n",
    "            break\n",
    "        finally:\n",
    "            print(\"Finally block code\")\n",
    "        print(val)"
   ]
  },
  {
   "cell_type": "code",
   "execution_count": 9,
   "id": "0f3fa254",
   "metadata": {},
   "outputs": [
    {
     "name": "stdout",
     "output_type": "stream",
     "text": [
      "Please enter an integer: two\n",
      "Do not an integer\n",
      "Finally block code\n",
      "Please enter an integer: 22\n",
      "That's is an integer\n",
      "Finally block code\n"
     ]
    }
   ],
   "source": [
    "makenum()"
   ]
  },
  {
   "cell_type": "code",
   "execution_count": 10,
   "id": "466e72d3",
   "metadata": {},
   "outputs": [],
   "source": [
    "def makenum():\n",
    "    while True:\n",
    "        try:\n",
    "            val = int(input(\"Please enter an integer: \"))\n",
    "        except:\n",
    "            print(\"Do not an integer\")\n",
    "            continue\n",
    "        else:\n",
    "            print(\"That's is an integer\")\n",
    "            print(val)\n",
    "            break\n",
    "        finally:\n",
    "            print(\"Finally block code\")        "
   ]
  },
  {
   "cell_type": "code",
   "execution_count": 11,
   "id": "985f49ba",
   "metadata": {},
   "outputs": [
    {
     "name": "stdout",
     "output_type": "stream",
     "text": [
      "Please enter an integer: three\n",
      "Do not an integer\n",
      "Finally block code\n",
      "Please enter an integer: 33\n",
      "That's is an integer\n",
      "33\n",
      "Finally block code\n"
     ]
    }
   ],
   "source": [
    "makenum()"
   ]
  }
 ],
 "metadata": {
  "kernelspec": {
   "display_name": "Python 3 (ipykernel)",
   "language": "python",
   "name": "python3"
  },
  "language_info": {
   "codemirror_mode": {
    "name": "ipython",
    "version": 3
   },
   "file_extension": ".py",
   "mimetype": "text/x-python",
   "name": "python",
   "nbconvert_exporter": "python",
   "pygments_lexer": "ipython3",
   "version": "3.9.7"
  }
 },
 "nbformat": 4,
 "nbformat_minor": 5
}
