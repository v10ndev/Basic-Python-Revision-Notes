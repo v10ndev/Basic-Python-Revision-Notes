{
 "cells": [
  {
   "cell_type": "code",
   "execution_count": 2,
   "id": "1c1a41a8",
   "metadata": {},
   "outputs": [
    {
     "name": "stdout",
     "output_type": "stream",
     "text": [
      "Requirement already satisfied: requests in c:\\users\\nguye\\anaconda3\\lib\\site-packages (2.26.0)\n",
      "Requirement already satisfied: idna<4,>=2.5 in c:\\users\\nguye\\anaconda3\\lib\\site-packages (from requests) (3.2)\n",
      "Requirement already satisfied: certifi>=2017.4.17 in c:\\users\\nguye\\anaconda3\\lib\\site-packages (from requests) (2021.10.8)\n",
      "Requirement already satisfied: charset-normalizer~=2.0.0 in c:\\users\\nguye\\anaconda3\\lib\\site-packages (from requests) (2.0.4)\n",
      "Requirement already satisfied: urllib3<1.27,>=1.21.1 in c:\\users\\nguye\\anaconda3\\lib\\site-packages (from requests) (1.26.7)\n",
      "Requirement already satisfied: lxml in c:\\users\\nguye\\anaconda3\\lib\\site-packages (4.6.3)\n",
      "Collecting bs4\n",
      "  Downloading bs4-0.0.1.tar.gz (1.1 kB)\n",
      "Requirement already satisfied: beautifulsoup4 in c:\\users\\nguye\\anaconda3\\lib\\site-packages (from bs4) (4.10.0)\n",
      "Requirement already satisfied: soupsieve>1.2 in c:\\users\\nguye\\anaconda3\\lib\\site-packages (from beautifulsoup4->bs4) (2.2.1)\n",
      "Building wheels for collected packages: bs4\n",
      "  Building wheel for bs4 (setup.py): started\n",
      "  Building wheel for bs4 (setup.py): finished with status 'done'\n",
      "  Created wheel for bs4: filename=bs4-0.0.1-py3-none-any.whl size=1271 sha256=6cf9b921fe7da41b4a8edb3ed9b2ab2265c0566276f46fdebbb8bb7a67258833\n",
      "  Stored in directory: c:\\users\\nguye\\appdata\\local\\pip\\cache\\wheels\\73\\2b\\cb\\099980278a0c9a3e57ff1a89875ec07bfa0b6fcbebb9a8cad3\n",
      "Successfully built bs4\n",
      "Installing collected packages: bs4\n",
      "Successfully installed bs4-0.0.1\n"
     ]
    }
   ],
   "source": [
    "!pip install requests\n",
    "!pip install lxml\n",
    "!pip install bs4"
   ]
  },
  {
   "cell_type": "code",
   "execution_count": 3,
   "id": "953a4133",
   "metadata": {},
   "outputs": [],
   "source": [
    "import requests"
   ]
  },
  {
   "cell_type": "code",
   "execution_count": 4,
   "id": "dca2e2af",
   "metadata": {},
   "outputs": [],
   "source": [
    "res = requests.get('https://quantrimang.com/')"
   ]
  },
  {
   "cell_type": "code",
   "execution_count": 5,
   "id": "d7ccf697",
   "metadata": {},
   "outputs": [
    {
     "data": {
      "text/plain": [
       "requests.models.Response"
      ]
     },
     "execution_count": 5,
     "metadata": {},
     "output_type": "execute_result"
    }
   ],
   "source": [
    "type(res)"
   ]
  },
  {
   "cell_type": "code",
   "execution_count": 6,
   "id": "60c9fe8f",
   "metadata": {},
   "outputs": [
    {
     "data": {
      "text/plain": [
       "'<!DOCTYPE html>\\n<!--[if lt IE 7]> <html class=\"no-js ie6 oldie\" lang=\"en-US\"> <![endif]-->\\n<!--[if IE 7]>    <html class=\"no-js ie7 oldie\" lang=\"en-US\"> <![endif]-->\\n<!--[if IE 8]>    <html class=\"no-js ie8 oldie\" lang=\"en-US\"> <![endif]-->\\n<!--[if gt IE 8]><!--> <html class=\"no-js\" lang=\"en-US\"> <!--<![endif]-->\\n<head>\\n\\n<title>Please Wait... | Cloudflare</title>\\n  \\n<meta charset=\"UTF-8\" />\\n<meta http-equiv=\"Content-Type\" content=\"text/html; charset=UTF-8\" />\\n<meta http-equiv=\"X-UA-Compatible\" content=\"IE=Edge\" />\\n<meta name=\"robots\" content=\"noindex, nofollow\" />\\n<meta name=\"viewport\" content=\"width=device-width,initial-scale=1\" />\\n<link rel=\"stylesheet\" id=\"cf_styles-css\" href=\"/cdn-cgi/styles/cf.errors.css\" />\\n<!--[if lt IE 9]><link rel=\"stylesheet\" id=\\'cf_styles-ie-css\\' href=\"/cdn-cgi/styles/cf.errors.ie.css\" /><![endif]-->\\n<style>body{margin:0;padding:0}</style>\\n\\n\\n<!--[if gte IE 10]><!-->\\n<script>\\n  if (!navigator.cookieEnabled) {\\n    window.addEventListener(\\'DOMContentLoaded\\', function () {\\n      var cookieEl = document.getElementById(\\'cookie-alert\\');\\n      cookieEl.style.display = \\'block\\';\\n    })\\n  }\\n</script>\\n<!--<![endif]-->\\n\\n\\n    <script>\\n    //<![CDATA[\\n    (function(){\\n      window._cf_chl_opt={\\n        cvId: \"2\",\\n        cType: \"managed\",\\n        cNounce: \"12142\",\\n        cRay: \"7190d986886eb46a\",\\n        cHash: \"621ee425dd44e23\",\\n        cUPMDTk: \"\\\\/?__cf_chl_tk=RapwSpIJbWe16.X2rPnvYWddVgG0QBNJNwZ9knGin0A-1654850924-0-gaNycGzNBz0\",\\n        cFPWv: \"b\",\\n        cTTimeMs: \"1000\",\\n        cLt: \"n\",\\n        cRq: {\\n          ru: \"aHR0cHM6Ly9xdWFudHJpbWFuZy5jb20v\",\\n          ra: \"cHl0aG9uLXJlcXVlc3RzLzIuMjYuMA==\",\\n          rm: \"R0VU\",\\n          d: \"4FNpWe4+Ahgns+mVeKQnbubaU39r8/2XLfO2FZpjuvQbesHG+UMxqdl1IWOcqvRAj93vOHb8xe+ZkTfNNrGiEdb63wms/x/RABNukUG9lb++ZCe2n5+hFY0RUpXU2uxDujhNtzt5TmCNvUUsDuw3ZiUkZx97htQ9KNskrZq8Locv8lPTdCFa9rzqTyfApUD1B6MP2c4GR72ojKM71qP5bZBErXxbzIVrckgF+Vw9KdUHkcMuyi+8gnVNJ9LOL2RVIyBb+Kp2BBuCP7UzA7N/nDIDfe7hxWiW04MNoGXDMQyKpCxPvOYZxNL8C44vMFKl6q8m/K8NhxkYHSnOwCNWO5Ohqm21Ey4u3uOe90eI+41CAvxZm1MRnOGN9o/39WKHVsAABk74YGmNbKTgqF8MCaNbKj/O3VjA7kjr5ZNr5v+ParRwzl5Qbc9pNsDwX+yd2KupHd+7aJZGb7LGzn2bAgWLKNfFR8jIiqlJhenFn1VuRqgL3e9vJs2HjckE0fzwV0Kt2ojKhTs2dvLG6mjtYqsFIvgo48EKmvcsB19m+vACQrAYQQxYpVN1NCNuYfVMtavTJu0sh6tDpnXn7qL6686EDL/7OuUqBn27Z0x/Lhbc+WDFfthYETpvqJ/BMy5KgCEkNYr76NaH4lh8bFa9e2SGu1kmspEWDqq10dhjGGsun/sMlOVSxEcW5RwcdjDc\",\\n          t: \"MTY1NDg1MDkyNC41NjgwMDA=\",\\n          m: \"6wgY7hk1Ati+sECysVuFkGC7v8LHta4KvJex+GUlGXc=\",\\n          i1: \"jS0x8eDU8MY/4NB9BPgDjg==\",\\n          i2: \"A6BFYTLPU4lH75Pw65ouWA==\",\\n          zh: \"7hytBIiwJn5hAQnfQBiKXFTk9yGTwy2b6Xk1eHCbNgY=\",\\n          uh: \"xaa5dII6Z3KyYGzGAu/zTXOfAYzLW3WlpO4dxW/Wc8c=\",\\n          hh: \"ea80K2MoY7xgBGLd7C/Xh+dSzYs9IKAGuuZ4nuDI8ec=\",\\n        }\\n      };\\n    }());\\n    //]]>\\n    </script>\\n\\n<style>\\n  #cf-wrapper #spinner {width:69px; margin:  auto;}\\n  #cf-wrapper #cf-please-wait{text-align:center}\\n  .attribution {margin-top: 32px;}\\n  .bubbles { background-color: #f58220; width:20px; height: 20px; margin:2px; border-radius:100%; display:inline-block; }\\n  #cf-wrapper #challenge-form { padding-top:25px; padding-bottom:25px; }\\n  #cf-hcaptcha-container { text-align:center;}\\n  #cf-hcaptcha-container iframe { display: inline-block;}\\n  @keyframes fader     { 0% {opacity: 0.2;} 50% {opacity: 1.0;} 100% {opacity: 0.2;} }\\n  #cf-wrapper #cf-bubbles { width:69px; }\\n  @-webkit-keyframes fader { 0% {opacity: 0.2;} 50% {opacity: 1.0;} 100% {opacity: 0.2;} }\\n  #cf-bubbles > .bubbles { animation: fader 1.6s infinite;}\\n  #cf-bubbles > .bubbles:nth-child(2) { animation-delay: .2s;}\\n  #cf-bubbles > .bubbles:nth-child(3) { animation-delay: .4s;}\\n</style>\\n</head>\\n<body>\\n  <div id=\"cf-wrapper\">\\n    <div class=\"cf-alert cf-alert-error cf-cookie-error\" id=\"cookie-alert\" data-translate=\"enable_cookies\">Please enable cookies.</div>\\n    <div id=\"cf-error-details\" class=\"cf-error-details-wrapper\">\\n      <div class=\"cf-wrapper cf-header cf-error-overview\">\\n      \\n        <h1 data-translate=\"managed_challenge_headline\">Please wait...</h1>\\n        <h2 class=\"cf-subheadline\"><span data-translate=\"managed_checking_msg\">We are checking your browser...</span> quantrimang.com</h2>\\n      \\n      </div>\\n      \\n      <div class=\"cf-section cf-highlight cf-captcha-container\">\\n        <div class=\"cf-wrapper\">\\n          <div class=\"cf-columns two\">\\n            <div class=\"cf-column\">\\n            \\n              <div class=\"cf-highlight-inverse cf-form-stacked\">\\n                <form class=\"challenge-form managed-form\" id=\"challenge-form\" action=\"/?__cf_chl_f_tk=RapwSpIJbWe16.X2rPnvYWddVgG0QBNJNwZ9knGin0A-1654850924-0-gaNycGzNBz0\" method=\"POST\" enctype=\"application/x-www-form-urlencoded\">\\n    <div id=\\'cf-please-wait\\'>\\n      <div id=\\'spinner\\'>\\n        <div id=\"cf-bubbles\">\\n            <div class=\"bubbles\"></div>\\n            <div class=\"bubbles\"></div>\\n            <div class=\"bubbles\"></div>\\n        </div>\\n      </div>\\n      <p data-translate=\"please_wait\" id=\"cf-spinner-please-wait\">Please stand by, while we are checking your browser...</p>\\n      <p data-translate=\"redirecting\" id=\"cf-spinner-redirecting\" style=\"display:none\">Redirecting...</p>\\n      </div>\\n  <input type=\"hidden\" name=\"md\" value=\"sau6PsUIZt6FOuUPfWu6klFLZ2S1npZC2ye1Y4oUu9M-1654850924-0-AYyoDIlV_41xfafUIbVEdkXA5db55lvIy6WI5iW2V79hB97hgIy4j8VIlX7I1dm4i8uiQxycqRWDEgmm_B1x0zZIrLTtAVFtmw0gnAMWBUkLTX8fxYjU8U9U6Bn7gplrIP08Hr9E_6kLpBxjUrc8xJXbHN-_km4-wPvMNt5yeocpCG5nqENj_BUqT_nG7uYxHFDmUmGZbLGMxlMI3SKKV29x_WDzNwRghmQtebhDEQvf5Vsndzea2QYgxxxcfPXeAyMCsDn7GICHrTun7scEE234qvw_EgcYXByBPJxgQ-NTNv23Xmz3GWkiplTeDgLEUnn9v2uMsnJKVTwEek9alLJ_rt5oCoI74__YNiTnffGaNQ85BaHFWF3B6rBClrCoZtrpWFcV2cyz-uObdii9BFYicgGlIPZRMtei3TtCTvxtj14PPivknede6UVJRnm7pbD2ZB9dajoNhdmVT9hwG3Vm-KbM_iZIZImoqv3DFwwkTWxT6kEd1z7fav8OKIjKa9yBIqsBG0ZMssuuXrbxhisvjh8qcJcXvdt-o7k__W094N42Wg8pdqGx4lHnYP9DzIMlIXqY3IRF32G8xqy5wkaavEM3QcngKJFP2tgZub0l4VqJ70Or725HuyrX79g-TPGDoxMt13-Skjy0uqNr2x7GKOQ6Abp1OYMyiDHWI6nllZF2iaZZDZT1MyB8z0rUyiCoKrKVAs2CHyxoUoHTM7SDBssam5w1xboUGKYOIf0X0GvHwR1Z1KEPQ7053nHVHmFTtC5DADbfblz71-v1U3dZuTH0H-TZT67Sd_y_2Ke6OPbMrsmt-IytBdiu1MGqRXucTAikyP-LX8GfcBDF-0E8pI0dpXkTQXLqG-0CVB0a79wVIucVz6f_SGq8RAQCtg\" />\\n  <input type=\"hidden\" name=\"r\" value=\".duBfhGxRhvtgcQaLfvL8AKqRYMKr8hwAKxT1G613Tg-1654850924-0-AWK709fE2nCf8qwKLbwkBNcKGMrgdC8fiElp/Pp1puFcqmWy5g+1Wt28wHZv/ZUwzUsH+fG6JPhQ67jl87j99QYnjDf47SwVzt0l41/f4pwXCkudtoRQkmTuFu2rb6RPOo4GIYgbeuF544huM5BVuh/eTAX7jXuVAPX84fKYUHddFklaRyZmfGiSG/b98QyDSRDuMwitdI0YU86TheMGwLNHNrxRxvffTeh/DQEZI0TZFG8rxt8mYYLZsCkNaX5W2Dy/dpUroyaWdkCPNGHwBoZSr0qY+5NgsH2RnXqEGmNx9iihhGtq/ZBBiETbnI/6RqKdX0Y8GK74HlhIWs+MP6ZXp9TuNWZzo43EJiXOerwz1iNj8zBuGVB6CLPoH4Cs/GMhXcxgz+VsC+8qG98aO34UI1/iH3PeQOZx7P4zO1yN4C9T1pKoOSXrabXStvANYu7viCGLXAfSXQLexL2pyRQhdwk3Ms6oUeLIMOnp40Ofi3aE3cYCN08W074oTgYEjTf6LdCenwY7SZURyy4rdtlOy6prxH5qEChFPXniFkqV8pO3P0/F35ZVo54bUy9Cfg1a3JUGSL3hpKQNEc4If5Gu7slmJZOciH8/V7NZo+KOtboD1KZrNSRnau9DvKedPTFU1VKVJJbQIEyMc1Rkzid2E5PaGueb5IoVD9hRknPm7+8ISh00LR7OUHDp7SsFSWHPC76kEQiMxBDlm0vEUO9Vuk7jzl1NSu/QcxBPjMc56MHz0K975FtotVnE9BuCUN4ps1fY8tTyWWAeH5Ar29X0ZrHiw5YmBBobZNls8L1uvFE9gMVPrUpxeUROG740XNXOVv6JPzA5dH1RnaDPJiopyyas+Z2ei74RxguV6gxqhT8TbqhaclhIpKXMv71hNCLZvmSu3RXCP5JvRrfTxtAFri0k1X+DORMXsV84hSxgIYAHWz1IGhUvdho77rHVeVNRZVhrRejX+OKRbyaU1S7cbS+vkp3XpKyDhvd954EHzUO8qg8kacSk4Re+bKgjHRH9UmgX0byWTNKRwHiN4JodvCPvHwSyu0qXmXzVbGkN0HMCrwyslqJZjZ8WhcL4aGpNeq5UmzV2Yi9yuP0xWydRsIEnpOzWesvuER1Lz5sF0gh7WjW6i8d6/zMhPsL2rv8mSYb/K3B8CL/1eNxl/aXEjhq0xw8A3r7cuMKlRZNBVmFvdn9FORs/gC6mlaqlpe2c7Yhv+CNZo62kDD4QPLXR64hpmK771Ub5vrPafXNteEIISIDgJzg4WOHmm/TcLveHyDiCYLQ5VunDo+Mu/ybzDRESHxFCmNf1aN1zwcPBuPGJ7E4pB1gMI8v3WTETpc5U8r1Yx+slZqfrdBlof1lYXOYxD9ZDMeA7G55XDpupwEXYyPunxYtmpaetsW9Dh078w3cclTKaFeZyqtCoHDjqEiGtRY5ibBDlPV2U8qQPlDC/uykj254Vq7VjMl+rZ/p1tPHIffj+oBcY2Ph56uISsiIauDQ1bw/f+uctZ8mZ6JYqe/iQJs+HyOpnsH6FyGBomXuf3qAJlUPVOOCGUWmb1Dp1RDaenvuL1vNynqb+Fbipw7muD5DMN0sOOyMjk1NBGVFmYYD9/9cHTAR1yn7VxVynRzvgRsK8pGw0Wa15N/5XCOjGyvkgPe/4uJqRvGjEC3w5s8zRRKNWRmel4cotvmDc7D9b+lBGmqyG6fxXeDliLx4nIfI2w12glrk+oCNHy0VVmdZFbtJ8oZSd5Yjz7tuGnEal1SSnYTSh+bZyUPsLGKDo7r8S4N5hH/V3mg==\">\\n  <input type=\"hidden\" name=\"vc\" value=\"2bc808f2b98c775c6139eef009a3a688\">\\n  <noscript id=\"cf-captcha-bookmark\" class=\"cf-captcha-info\">\\n  <h1 data-translate=\"turn_on_js\" style=\"color:#bd2426;\">Please turn JavaScript on and reload the page.</h1>\\n  </noscript>\\n    <div id=\"no-cookie-warning\" class=\"cookie-warning\" data-translate=\"turn_on_cookies\" style=\"display:none\">\\n      <p data-translate=\"turn_on_cookies\" style=\"color:#bd2426;\">Please enable Cookies and reload the page.</p>\\n    </div>\\n  <script>\\n  //<![CDATA[\\n    var a = function() {try{return !!window.addEventListener} catch(e) {return !1} },\\n      b = function(b, c) {a() ? document.addEventListener(\"DOMContentLoaded\", b, c) : document.attachEvent(\"onreadystatechange\", b)};\\n      b(function(){\\n        var cookiesEnabled=(navigator.cookieEnabled)? true : false;\\n        if(!cookiesEnabled){\\n          var q = document.getElementById(\\'no-cookie-warning\\');q.style.display = \\'block\\';\\n        }\\n      });\\n  //]]>\\n  </script>\\n  <div id=\"trk_captcha_js\" style=\"background-image:url(\\'/cdn-cgi/images/trace/captcha/nojs/h/transparent.gif?ray=7190d986886eb46a\\')\"></div>\\n</form>\\n  <script>\\n    //<![CDATA[\\n    (function(){\\n        var isIE = /(MSIE|Trident\\\\/|Edge\\\\/)/i.test(window.navigator.userAgent);\\n        var trkjs = isIE ? new Image() : document.createElement(\\'img\\');\\n        trkjs.setAttribute(\"src\", \"/cdn-cgi/images/trace/managed/js/transparent.gif?ray=7190d986886eb46a\");\\n        trkjs.id = \"trk_managed_js\";\\n        trkjs.setAttribute(\"alt\", \"\");\\n        document.body.appendChild(trkjs);\\n        var cpo=document.createElement(\\'script\\');\\n        cpo.type=\\'text/javascript\\';\\n        cpo.src=\"/cdn-cgi/challenge-platform/h/b/orchestrate/managed/v1?ray=7190d986886eb46a\";\\n        \\n        window._cf_chl_opt.cOgUHash = location.hash === \\'\\' && location.href.indexOf(\\'#\\') !== -1 ? \\'#\\' : location.hash;\\n        window._cf_chl_opt.cOgUQuery = location.search === \\'\\' && location.href.slice(0, -window._cf_chl_opt.cOgUHash.length).indexOf(\\'?\\') !== -1 ? \\'?\\' : location.search;\\n        if (window._cf_chl_opt.cUPMDTk && window.history && window.history.replaceState) {\\n          var ogU = location.pathname + window._cf_chl_opt.cOgUQuery + window._cf_chl_opt.cOgUHash;\\n          history.replaceState(null, null, \"\\\\/?__cf_chl_rt_tk=RapwSpIJbWe16.X2rPnvYWddVgG0QBNJNwZ9knGin0A-1654850924-0-gaNycGzNBz0\" + window._cf_chl_opt.cOgUHash);\\n          cpo.onload = function() {\\n            history.replaceState(null, null, ogU);\\n          };\\n        }\\n        \\n        document.getElementsByTagName(\\'head\\')[0].appendChild(cpo);\\n    }());\\n    //]]>\\n    </script>\\n\\n\\n              </div>\\n            </div>\\n\\n            <div class=\"cf-column\">\\n              <div class=\"cf-screenshot-container\">\\n              \\n                <span class=\"cf-no-screenshot\"></span>\\n              \\n              </div>\\n            </div>\\n          </div>\\n        </div>\\n      </div>\\n\\n      <div class=\"cf-section cf-wrapper\">\\n        <div class=\"cf-columns two\">\\n          <div class=\"cf-column\">\\n            <h2 data-translate=\"why_captcha_headline\">Why do I have to complete a CAPTCHA?</h2>\\n            \\n            <p data-translate=\"why_captcha_detail\">Completing the CAPTCHA proves you are a human and gives you temporary access to the web property.</p>\\n          </div>\\n\\n          <div class=\"cf-column\">\\n            <h2 data-translate=\"resolve_captcha_headline\">What can I do to prevent this in the future?</h2>\\n            \\n\\n            <p data-translate=\"resolve_captcha_antivirus\">If you are on a personal connection, like at home, you can run an anti-virus scan on your device to make sure it is not infected with malware.</p>\\n\\n            <p data-translate=\"resolve_captcha_network\">If you are at an office or shared network, you can ask the network administrator to run a scan across the network looking for misconfigured or infected devices.</p>\\n            \\n              \\n            \\n          </div>\\n        </div>\\n      </div>\\n      \\n\\n      <div class=\"cf-error-footer cf-wrapper w-240 lg:w-full py-10 sm:py-4 sm:px-8 mx-auto text-center sm:text-left border-solid border-0 border-t border-gray-300\">\\n  <p class=\"text-13\">\\n    <span class=\"cf-footer-item sm:block sm:mb-1\">Cloudflare Ray ID: <strong class=\"font-semibold\">7190d986886eb46a</strong></span>\\n    <span class=\"cf-footer-separator sm:hidden\">&bull;</span>\\n    <span class=\"cf-footer-item sm:block sm:mb-1\"><span>Your IP</span>: 116.96.44.148</span>\\n    <span class=\"cf-footer-separator sm:hidden\">&bull;</span>\\n    <span class=\"cf-footer-item sm:block sm:mb-1\"><span>Performance &amp; security by</span> <a rel=\"noopener noreferrer\" href=\"https://www.cloudflare.com/5xx-error-landing\" id=\"brand_link\" target=\"_blank\">Cloudflare</a></span>\\n    \\n  </p>\\n</div><!-- /.error-footer -->\\n\\n\\n    </div>\\n  </div>\\n\\n  <script>\\n  window._cf_translation = {};\\n  \\n  \\n</script>\\n\\n\\n</body>\\n</html>\\n'"
      ]
     },
     "execution_count": 6,
     "metadata": {},
     "output_type": "execute_result"
    }
   ],
   "source": [
    "res.text"
   ]
  },
  {
   "cell_type": "code",
   "execution_count": 7,
   "id": "75d793c4",
   "metadata": {},
   "outputs": [],
   "source": [
    "import bs4"
   ]
  },
  {
   "cell_type": "code",
   "execution_count": 8,
   "id": "8bfdd654",
   "metadata": {},
   "outputs": [],
   "source": [
    "soup = bs4.BeautifulSoup(res.text, 'lxml')"
   ]
  },
  {
   "cell_type": "code",
   "execution_count": 9,
   "id": "03ea1d6c",
   "metadata": {},
   "outputs": [
    {
     "data": {
      "text/plain": [
       "<!DOCTYPE html>\n",
       "<!--[if lt IE 7]> <html class=\"no-js ie6 oldie\" lang=\"en-US\"> <![endif]--><!--[if IE 7]>    <html class=\"no-js ie7 oldie\" lang=\"en-US\"> <![endif]--><!--[if IE 8]>    <html class=\"no-js ie8 oldie\" lang=\"en-US\"> <![endif]--><!--[if gt IE 8]><!--><html class=\"no-js\" lang=\"en-US\"> <!--<![endif]-->\n",
       "<head>\n",
       "<title>Please Wait... | Cloudflare</title>\n",
       "<meta charset=\"utf-8\"/>\n",
       "<meta content=\"text/html; charset=utf-8\" http-equiv=\"Content-Type\"/>\n",
       "<meta content=\"IE=Edge\" http-equiv=\"X-UA-Compatible\"/>\n",
       "<meta content=\"noindex, nofollow\" name=\"robots\"/>\n",
       "<meta content=\"width=device-width,initial-scale=1\" name=\"viewport\"/>\n",
       "<link href=\"/cdn-cgi/styles/cf.errors.css\" id=\"cf_styles-css\" rel=\"stylesheet\"/>\n",
       "<!--[if lt IE 9]><link rel=\"stylesheet\" id='cf_styles-ie-css' href=\"/cdn-cgi/styles/cf.errors.ie.css\" /><![endif]-->\n",
       "<style>body{margin:0;padding:0}</style>\n",
       "<!--[if gte IE 10]><!-->\n",
       "<script>\n",
       "  if (!navigator.cookieEnabled) {\n",
       "    window.addEventListener('DOMContentLoaded', function () {\n",
       "      var cookieEl = document.getElementById('cookie-alert');\n",
       "      cookieEl.style.display = 'block';\n",
       "    })\n",
       "  }\n",
       "</script>\n",
       "<!--<![endif]-->\n",
       "<script>\n",
       "    //<![CDATA[\n",
       "    (function(){\n",
       "      window._cf_chl_opt={\n",
       "        cvId: \"2\",\n",
       "        cType: \"managed\",\n",
       "        cNounce: \"12142\",\n",
       "        cRay: \"7190d986886eb46a\",\n",
       "        cHash: \"621ee425dd44e23\",\n",
       "        cUPMDTk: \"\\/?__cf_chl_tk=RapwSpIJbWe16.X2rPnvYWddVgG0QBNJNwZ9knGin0A-1654850924-0-gaNycGzNBz0\",\n",
       "        cFPWv: \"b\",\n",
       "        cTTimeMs: \"1000\",\n",
       "        cLt: \"n\",\n",
       "        cRq: {\n",
       "          ru: \"aHR0cHM6Ly9xdWFudHJpbWFuZy5jb20v\",\n",
       "          ra: \"cHl0aG9uLXJlcXVlc3RzLzIuMjYuMA==\",\n",
       "          rm: \"R0VU\",\n",
       "          d: \"4FNpWe4+Ahgns+mVeKQnbubaU39r8/2XLfO2FZpjuvQbesHG+UMxqdl1IWOcqvRAj93vOHb8xe+ZkTfNNrGiEdb63wms/x/RABNukUG9lb++ZCe2n5+hFY0RUpXU2uxDujhNtzt5TmCNvUUsDuw3ZiUkZx97htQ9KNskrZq8Locv8lPTdCFa9rzqTyfApUD1B6MP2c4GR72ojKM71qP5bZBErXxbzIVrckgF+Vw9KdUHkcMuyi+8gnVNJ9LOL2RVIyBb+Kp2BBuCP7UzA7N/nDIDfe7hxWiW04MNoGXDMQyKpCxPvOYZxNL8C44vMFKl6q8m/K8NhxkYHSnOwCNWO5Ohqm21Ey4u3uOe90eI+41CAvxZm1MRnOGN9o/39WKHVsAABk74YGmNbKTgqF8MCaNbKj/O3VjA7kjr5ZNr5v+ParRwzl5Qbc9pNsDwX+yd2KupHd+7aJZGb7LGzn2bAgWLKNfFR8jIiqlJhenFn1VuRqgL3e9vJs2HjckE0fzwV0Kt2ojKhTs2dvLG6mjtYqsFIvgo48EKmvcsB19m+vACQrAYQQxYpVN1NCNuYfVMtavTJu0sh6tDpnXn7qL6686EDL/7OuUqBn27Z0x/Lhbc+WDFfthYETpvqJ/BMy5KgCEkNYr76NaH4lh8bFa9e2SGu1kmspEWDqq10dhjGGsun/sMlOVSxEcW5RwcdjDc\",\n",
       "          t: \"MTY1NDg1MDkyNC41NjgwMDA=\",\n",
       "          m: \"6wgY7hk1Ati+sECysVuFkGC7v8LHta4KvJex+GUlGXc=\",\n",
       "          i1: \"jS0x8eDU8MY/4NB9BPgDjg==\",\n",
       "          i2: \"A6BFYTLPU4lH75Pw65ouWA==\",\n",
       "          zh: \"7hytBIiwJn5hAQnfQBiKXFTk9yGTwy2b6Xk1eHCbNgY=\",\n",
       "          uh: \"xaa5dII6Z3KyYGzGAu/zTXOfAYzLW3WlpO4dxW/Wc8c=\",\n",
       "          hh: \"ea80K2MoY7xgBGLd7C/Xh+dSzYs9IKAGuuZ4nuDI8ec=\",\n",
       "        }\n",
       "      };\n",
       "    }());\n",
       "    //]]>\n",
       "    </script>\n",
       "<style>\n",
       "  #cf-wrapper #spinner {width:69px; margin:  auto;}\n",
       "  #cf-wrapper #cf-please-wait{text-align:center}\n",
       "  .attribution {margin-top: 32px;}\n",
       "  .bubbles { background-color: #f58220; width:20px; height: 20px; margin:2px; border-radius:100%; display:inline-block; }\n",
       "  #cf-wrapper #challenge-form { padding-top:25px; padding-bottom:25px; }\n",
       "  #cf-hcaptcha-container { text-align:center;}\n",
       "  #cf-hcaptcha-container iframe { display: inline-block;}\n",
       "  @keyframes fader     { 0% {opacity: 0.2;} 50% {opacity: 1.0;} 100% {opacity: 0.2;} }\n",
       "  #cf-wrapper #cf-bubbles { width:69px; }\n",
       "  @-webkit-keyframes fader { 0% {opacity: 0.2;} 50% {opacity: 1.0;} 100% {opacity: 0.2;} }\n",
       "  #cf-bubbles > .bubbles { animation: fader 1.6s infinite;}\n",
       "  #cf-bubbles > .bubbles:nth-child(2) { animation-delay: .2s;}\n",
       "  #cf-bubbles > .bubbles:nth-child(3) { animation-delay: .4s;}\n",
       "</style>\n",
       "</head>\n",
       "<body>\n",
       "<div id=\"cf-wrapper\">\n",
       "<div class=\"cf-alert cf-alert-error cf-cookie-error\" data-translate=\"enable_cookies\" id=\"cookie-alert\">Please enable cookies.</div>\n",
       "<div class=\"cf-error-details-wrapper\" id=\"cf-error-details\">\n",
       "<div class=\"cf-wrapper cf-header cf-error-overview\">\n",
       "<h1 data-translate=\"managed_challenge_headline\">Please wait...</h1>\n",
       "<h2 class=\"cf-subheadline\"><span data-translate=\"managed_checking_msg\">We are checking your browser...</span> quantrimang.com</h2>\n",
       "</div>\n",
       "<div class=\"cf-section cf-highlight cf-captcha-container\">\n",
       "<div class=\"cf-wrapper\">\n",
       "<div class=\"cf-columns two\">\n",
       "<div class=\"cf-column\">\n",
       "<div class=\"cf-highlight-inverse cf-form-stacked\">\n",
       "<form action=\"/?__cf_chl_f_tk=RapwSpIJbWe16.X2rPnvYWddVgG0QBNJNwZ9knGin0A-1654850924-0-gaNycGzNBz0\" class=\"challenge-form managed-form\" enctype=\"application/x-www-form-urlencoded\" id=\"challenge-form\" method=\"POST\">\n",
       "<div id=\"cf-please-wait\">\n",
       "<div id=\"spinner\">\n",
       "<div id=\"cf-bubbles\">\n",
       "<div class=\"bubbles\"></div>\n",
       "<div class=\"bubbles\"></div>\n",
       "<div class=\"bubbles\"></div>\n",
       "</div>\n",
       "</div>\n",
       "<p data-translate=\"please_wait\" id=\"cf-spinner-please-wait\">Please stand by, while we are checking your browser...</p>\n",
       "<p data-translate=\"redirecting\" id=\"cf-spinner-redirecting\" style=\"display:none\">Redirecting...</p>\n",
       "</div>\n",
       "<input name=\"md\" type=\"hidden\" value=\"sau6PsUIZt6FOuUPfWu6klFLZ2S1npZC2ye1Y4oUu9M-1654850924-0-AYyoDIlV_41xfafUIbVEdkXA5db55lvIy6WI5iW2V79hB97hgIy4j8VIlX7I1dm4i8uiQxycqRWDEgmm_B1x0zZIrLTtAVFtmw0gnAMWBUkLTX8fxYjU8U9U6Bn7gplrIP08Hr9E_6kLpBxjUrc8xJXbHN-_km4-wPvMNt5yeocpCG5nqENj_BUqT_nG7uYxHFDmUmGZbLGMxlMI3SKKV29x_WDzNwRghmQtebhDEQvf5Vsndzea2QYgxxxcfPXeAyMCsDn7GICHrTun7scEE234qvw_EgcYXByBPJxgQ-NTNv23Xmz3GWkiplTeDgLEUnn9v2uMsnJKVTwEek9alLJ_rt5oCoI74__YNiTnffGaNQ85BaHFWF3B6rBClrCoZtrpWFcV2cyz-uObdii9BFYicgGlIPZRMtei3TtCTvxtj14PPivknede6UVJRnm7pbD2ZB9dajoNhdmVT9hwG3Vm-KbM_iZIZImoqv3DFwwkTWxT6kEd1z7fav8OKIjKa9yBIqsBG0ZMssuuXrbxhisvjh8qcJcXvdt-o7k__W094N42Wg8pdqGx4lHnYP9DzIMlIXqY3IRF32G8xqy5wkaavEM3QcngKJFP2tgZub0l4VqJ70Or725HuyrX79g-TPGDoxMt13-Skjy0uqNr2x7GKOQ6Abp1OYMyiDHWI6nllZF2iaZZDZT1MyB8z0rUyiCoKrKVAs2CHyxoUoHTM7SDBssam5w1xboUGKYOIf0X0GvHwR1Z1KEPQ7053nHVHmFTtC5DADbfblz71-v1U3dZuTH0H-TZT67Sd_y_2Ke6OPbMrsmt-IytBdiu1MGqRXucTAikyP-LX8GfcBDF-0E8pI0dpXkTQXLqG-0CVB0a79wVIucVz6f_SGq8RAQCtg\"/>\n",
       "<input name=\"r\" type=\"hidden\" value=\".duBfhGxRhvtgcQaLfvL8AKqRYMKr8hwAKxT1G613Tg-1654850924-0-AWK709fE2nCf8qwKLbwkBNcKGMrgdC8fiElp/Pp1puFcqmWy5g+1Wt28wHZv/ZUwzUsH+fG6JPhQ67jl87j99QYnjDf47SwVzt0l41/f4pwXCkudtoRQkmTuFu2rb6RPOo4GIYgbeuF544huM5BVuh/eTAX7jXuVAPX84fKYUHddFklaRyZmfGiSG/b98QyDSRDuMwitdI0YU86TheMGwLNHNrxRxvffTeh/DQEZI0TZFG8rxt8mYYLZsCkNaX5W2Dy/dpUroyaWdkCPNGHwBoZSr0qY+5NgsH2RnXqEGmNx9iihhGtq/ZBBiETbnI/6RqKdX0Y8GK74HlhIWs+MP6ZXp9TuNWZzo43EJiXOerwz1iNj8zBuGVB6CLPoH4Cs/GMhXcxgz+VsC+8qG98aO34UI1/iH3PeQOZx7P4zO1yN4C9T1pKoOSXrabXStvANYu7viCGLXAfSXQLexL2pyRQhdwk3Ms6oUeLIMOnp40Ofi3aE3cYCN08W074oTgYEjTf6LdCenwY7SZURyy4rdtlOy6prxH5qEChFPXniFkqV8pO3P0/F35ZVo54bUy9Cfg1a3JUGSL3hpKQNEc4If5Gu7slmJZOciH8/V7NZo+KOtboD1KZrNSRnau9DvKedPTFU1VKVJJbQIEyMc1Rkzid2E5PaGueb5IoVD9hRknPm7+8ISh00LR7OUHDp7SsFSWHPC76kEQiMxBDlm0vEUO9Vuk7jzl1NSu/QcxBPjMc56MHz0K975FtotVnE9BuCUN4ps1fY8tTyWWAeH5Ar29X0ZrHiw5YmBBobZNls8L1uvFE9gMVPrUpxeUROG740XNXOVv6JPzA5dH1RnaDPJiopyyas+Z2ei74RxguV6gxqhT8TbqhaclhIpKXMv71hNCLZvmSu3RXCP5JvRrfTxtAFri0k1X+DORMXsV84hSxgIYAHWz1IGhUvdho77rHVeVNRZVhrRejX+OKRbyaU1S7cbS+vkp3XpKyDhvd954EHzUO8qg8kacSk4Re+bKgjHRH9UmgX0byWTNKRwHiN4JodvCPvHwSyu0qXmXzVbGkN0HMCrwyslqJZjZ8WhcL4aGpNeq5UmzV2Yi9yuP0xWydRsIEnpOzWesvuER1Lz5sF0gh7WjW6i8d6/zMhPsL2rv8mSYb/K3B8CL/1eNxl/aXEjhq0xw8A3r7cuMKlRZNBVmFvdn9FORs/gC6mlaqlpe2c7Yhv+CNZo62kDD4QPLXR64hpmK771Ub5vrPafXNteEIISIDgJzg4WOHmm/TcLveHyDiCYLQ5VunDo+Mu/ybzDRESHxFCmNf1aN1zwcPBuPGJ7E4pB1gMI8v3WTETpc5U8r1Yx+slZqfrdBlof1lYXOYxD9ZDMeA7G55XDpupwEXYyPunxYtmpaetsW9Dh078w3cclTKaFeZyqtCoHDjqEiGtRY5ibBDlPV2U8qQPlDC/uykj254Vq7VjMl+rZ/p1tPHIffj+oBcY2Ph56uISsiIauDQ1bw/f+uctZ8mZ6JYqe/iQJs+HyOpnsH6FyGBomXuf3qAJlUPVOOCGUWmb1Dp1RDaenvuL1vNynqb+Fbipw7muD5DMN0sOOyMjk1NBGVFmYYD9/9cHTAR1yn7VxVynRzvgRsK8pGw0Wa15N/5XCOjGyvkgPe/4uJqRvGjEC3w5s8zRRKNWRmel4cotvmDc7D9b+lBGmqyG6fxXeDliLx4nIfI2w12glrk+oCNHy0VVmdZFbtJ8oZSd5Yjz7tuGnEal1SSnYTSh+bZyUPsLGKDo7r8S4N5hH/V3mg==\"/>\n",
       "<input name=\"vc\" type=\"hidden\" value=\"2bc808f2b98c775c6139eef009a3a688\"/>\n",
       "<noscript class=\"cf-captcha-info\" id=\"cf-captcha-bookmark\">\n",
       "<h1 data-translate=\"turn_on_js\" style=\"color:#bd2426;\">Please turn JavaScript on and reload the page.</h1>\n",
       "</noscript>\n",
       "<div class=\"cookie-warning\" data-translate=\"turn_on_cookies\" id=\"no-cookie-warning\" style=\"display:none\">\n",
       "<p data-translate=\"turn_on_cookies\" style=\"color:#bd2426;\">Please enable Cookies and reload the page.</p>\n",
       "</div>\n",
       "<script>\n",
       "  //<![CDATA[\n",
       "    var a = function() {try{return !!window.addEventListener} catch(e) {return !1} },\n",
       "      b = function(b, c) {a() ? document.addEventListener(\"DOMContentLoaded\", b, c) : document.attachEvent(\"onreadystatechange\", b)};\n",
       "      b(function(){\n",
       "        var cookiesEnabled=(navigator.cookieEnabled)? true : false;\n",
       "        if(!cookiesEnabled){\n",
       "          var q = document.getElementById('no-cookie-warning');q.style.display = 'block';\n",
       "        }\n",
       "      });\n",
       "  //]]>\n",
       "  </script>\n",
       "<div id=\"trk_captcha_js\" style=\"background-image:url('/cdn-cgi/images/trace/captcha/nojs/h/transparent.gif?ray=7190d986886eb46a')\"></div>\n",
       "</form>\n",
       "<script>\n",
       "    //<![CDATA[\n",
       "    (function(){\n",
       "        var isIE = /(MSIE|Trident\\/|Edge\\/)/i.test(window.navigator.userAgent);\n",
       "        var trkjs = isIE ? new Image() : document.createElement('img');\n",
       "        trkjs.setAttribute(\"src\", \"/cdn-cgi/images/trace/managed/js/transparent.gif?ray=7190d986886eb46a\");\n",
       "        trkjs.id = \"trk_managed_js\";\n",
       "        trkjs.setAttribute(\"alt\", \"\");\n",
       "        document.body.appendChild(trkjs);\n",
       "        var cpo=document.createElement('script');\n",
       "        cpo.type='text/javascript';\n",
       "        cpo.src=\"/cdn-cgi/challenge-platform/h/b/orchestrate/managed/v1?ray=7190d986886eb46a\";\n",
       "        \n",
       "        window._cf_chl_opt.cOgUHash = location.hash === '' && location.href.indexOf('#') !== -1 ? '#' : location.hash;\n",
       "        window._cf_chl_opt.cOgUQuery = location.search === '' && location.href.slice(0, -window._cf_chl_opt.cOgUHash.length).indexOf('?') !== -1 ? '?' : location.search;\n",
       "        if (window._cf_chl_opt.cUPMDTk && window.history && window.history.replaceState) {\n",
       "          var ogU = location.pathname + window._cf_chl_opt.cOgUQuery + window._cf_chl_opt.cOgUHash;\n",
       "          history.replaceState(null, null, \"\\/?__cf_chl_rt_tk=RapwSpIJbWe16.X2rPnvYWddVgG0QBNJNwZ9knGin0A-1654850924-0-gaNycGzNBz0\" + window._cf_chl_opt.cOgUHash);\n",
       "          cpo.onload = function() {\n",
       "            history.replaceState(null, null, ogU);\n",
       "          };\n",
       "        }\n",
       "        \n",
       "        document.getElementsByTagName('head')[0].appendChild(cpo);\n",
       "    }());\n",
       "    //]]>\n",
       "    </script>\n",
       "</div>\n",
       "</div>\n",
       "<div class=\"cf-column\">\n",
       "<div class=\"cf-screenshot-container\">\n",
       "<span class=\"cf-no-screenshot\"></span>\n",
       "</div>\n",
       "</div>\n",
       "</div>\n",
       "</div>\n",
       "</div>\n",
       "<div class=\"cf-section cf-wrapper\">\n",
       "<div class=\"cf-columns two\">\n",
       "<div class=\"cf-column\">\n",
       "<h2 data-translate=\"why_captcha_headline\">Why do I have to complete a CAPTCHA?</h2>\n",
       "<p data-translate=\"why_captcha_detail\">Completing the CAPTCHA proves you are a human and gives you temporary access to the web property.</p>\n",
       "</div>\n",
       "<div class=\"cf-column\">\n",
       "<h2 data-translate=\"resolve_captcha_headline\">What can I do to prevent this in the future?</h2>\n",
       "<p data-translate=\"resolve_captcha_antivirus\">If you are on a personal connection, like at home, you can run an anti-virus scan on your device to make sure it is not infected with malware.</p>\n",
       "<p data-translate=\"resolve_captcha_network\">If you are at an office or shared network, you can ask the network administrator to run a scan across the network looking for misconfigured or infected devices.</p>\n",
       "</div>\n",
       "</div>\n",
       "</div>\n",
       "<div class=\"cf-error-footer cf-wrapper w-240 lg:w-full py-10 sm:py-4 sm:px-8 mx-auto text-center sm:text-left border-solid border-0 border-t border-gray-300\">\n",
       "<p class=\"text-13\">\n",
       "<span class=\"cf-footer-item sm:block sm:mb-1\">Cloudflare Ray ID: <strong class=\"font-semibold\">7190d986886eb46a</strong></span>\n",
       "<span class=\"cf-footer-separator sm:hidden\">•</span>\n",
       "<span class=\"cf-footer-item sm:block sm:mb-1\"><span>Your IP</span>: 116.96.44.148</span>\n",
       "<span class=\"cf-footer-separator sm:hidden\">•</span>\n",
       "<span class=\"cf-footer-item sm:block sm:mb-1\"><span>Performance &amp; security by</span> <a href=\"https://www.cloudflare.com/5xx-error-landing\" id=\"brand_link\" rel=\"noopener noreferrer\" target=\"_blank\">Cloudflare</a></span>\n",
       "</p>\n",
       "</div><!-- /.error-footer -->\n",
       "</div>\n",
       "</div>\n",
       "<script>\n",
       "  window._cf_translation = {};\n",
       "  \n",
       "  \n",
       "</script>\n",
       "</body>\n",
       "</html>"
      ]
     },
     "execution_count": 9,
     "metadata": {},
     "output_type": "execute_result"
    }
   ],
   "source": [
    "soup"
   ]
  },
  {
   "cell_type": "code",
   "execution_count": 10,
   "id": "4b26510e",
   "metadata": {},
   "outputs": [
    {
     "data": {
      "text/plain": [
       "[<title>Please Wait... | Cloudflare</title>]"
      ]
     },
     "execution_count": 10,
     "metadata": {},
     "output_type": "execute_result"
    }
   ],
   "source": [
    "soup.select('title')"
   ]
  },
  {
   "cell_type": "code",
   "execution_count": 11,
   "id": "a335c8c1",
   "metadata": {},
   "outputs": [],
   "source": [
    "title_tag = soup.select('title')"
   ]
  },
  {
   "cell_type": "code",
   "execution_count": 12,
   "id": "2de4c9e6",
   "metadata": {},
   "outputs": [
    {
     "data": {
      "text/plain": [
       "<title>Please Wait... | Cloudflare</title>"
      ]
     },
     "execution_count": 12,
     "metadata": {},
     "output_type": "execute_result"
    }
   ],
   "source": [
    "title_tag[0]"
   ]
  },
  {
   "cell_type": "code",
   "execution_count": 13,
   "id": "2493835a",
   "metadata": {},
   "outputs": [
    {
     "data": {
      "text/plain": [
       "bs4.element.Tag"
      ]
     },
     "execution_count": 13,
     "metadata": {},
     "output_type": "execute_result"
    }
   ],
   "source": [
    "type(title_tag[0])"
   ]
  },
  {
   "cell_type": "code",
   "execution_count": 14,
   "id": "0ad278e4",
   "metadata": {},
   "outputs": [
    {
     "data": {
      "text/plain": [
       "'Please Wait... | Cloudflare'"
      ]
     },
     "execution_count": 14,
     "metadata": {},
     "output_type": "execute_result"
    }
   ],
   "source": [
    "title_tag[0].getText()"
   ]
  },
  {
   "cell_type": "code",
   "execution_count": 15,
   "id": "42d40dc0",
   "metadata": {},
   "outputs": [],
   "source": [
    "res = requests.get('https://en.wikipedia.org/wiki/Grace_Hopper')"
   ]
  },
  {
   "cell_type": "code",
   "execution_count": 16,
   "id": "f46087ef",
   "metadata": {},
   "outputs": [],
   "source": [
    "soup = bs4.BeautifulSoup(res.text,'lxml')"
   ]
  },
  {
   "cell_type": "code",
   "execution_count": 17,
   "id": "d309e12c",
   "metadata": {},
   "outputs": [
    {
     "data": {
      "text/plain": [
       "[<span class=\"toctext\">Early life and education</span>,\n",
       " <span class=\"toctext\">Career</span>,\n",
       " <span class=\"toctext\">World War II</span>,\n",
       " <span class=\"toctext\">UNIVAC</span>,\n",
       " <span class=\"toctext\">COBOL</span>,\n",
       " <span class=\"toctext\">Standards</span>,\n",
       " <span class=\"toctext\">Retirement</span>,\n",
       " <span class=\"toctext\">Post-retirement</span>,\n",
       " <span class=\"toctext\">Anecdotes</span>,\n",
       " <span class=\"toctext\">Death</span>,\n",
       " <span class=\"toctext\">Dates of rank</span>,\n",
       " <span class=\"toctext\">Awards and honors</span>,\n",
       " <span class=\"toctext\">Military awards</span>,\n",
       " <span class=\"toctext\">Other awards</span>,\n",
       " <span class=\"toctext\">Legacy</span>,\n",
       " <span class=\"toctext\">Places</span>,\n",
       " <span class=\"toctext\">Programs</span>,\n",
       " <span class=\"toctext\">In popular culture</span>,\n",
       " <span class=\"toctext\">Grace Hopper Celebration of Women in Computing</span>,\n",
       " <span class=\"toctext\">See also</span>,\n",
       " <span class=\"toctext\">Notes</span>,\n",
       " <span class=\"toctext\">Obituary notices</span>,\n",
       " <span class=\"toctext\">References</span>,\n",
       " <span class=\"toctext\">Further reading</span>,\n",
       " <span class=\"toctext\">External links</span>]"
      ]
     },
     "execution_count": 17,
     "metadata": {},
     "output_type": "execute_result"
    }
   ],
   "source": [
    "soup.select('.toctext')"
   ]
  },
  {
   "cell_type": "code",
   "execution_count": 18,
   "id": "e1b0269a",
   "metadata": {},
   "outputs": [
    {
     "name": "stdout",
     "output_type": "stream",
     "text": [
      "Early life and education\n",
      "Career\n",
      "World War II\n",
      "UNIVAC\n",
      "COBOL\n",
      "Standards\n",
      "Retirement\n",
      "Post-retirement\n",
      "Anecdotes\n",
      "Death\n",
      "Dates of rank\n",
      "Awards and honors\n",
      "Military awards\n",
      "Other awards\n",
      "Legacy\n",
      "Places\n",
      "Programs\n",
      "In popular culture\n",
      "Grace Hopper Celebration of Women in Computing\n",
      "See also\n",
      "Notes\n",
      "Obituary notices\n",
      "References\n",
      "Further reading\n",
      "External links\n"
     ]
    }
   ],
   "source": [
    "for item in soup.select(\".toctext\"):\n",
    "    print(item.text)"
   ]
  },
  {
   "cell_type": "code",
   "execution_count": 19,
   "id": "334c58ff",
   "metadata": {},
   "outputs": [],
   "source": [
    "res = requests.get(\"https://en.wikipedia.org/wiki/Deep_Blue_(chess_computer)\")"
   ]
  },
  {
   "cell_type": "code",
   "execution_count": 20,
   "id": "fc256ec3",
   "metadata": {},
   "outputs": [],
   "source": [
    "soup = bs4.BeautifulSoup(res.text,'lxml')"
   ]
  },
  {
   "cell_type": "code",
   "execution_count": 21,
   "id": "79082142",
   "metadata": {},
   "outputs": [],
   "source": [
    "image_info = soup.select('.thumbimage')"
   ]
  },
  {
   "cell_type": "code",
   "execution_count": 22,
   "id": "26d8855f",
   "metadata": {},
   "outputs": [
    {
     "data": {
      "text/plain": [
       "[<img alt=\"\" class=\"thumbimage\" data-file-height=\"600\" data-file-width=\"800\" decoding=\"async\" height=\"165\" src=\"//upload.wikimedia.org/wikipedia/commons/thumb/6/6f/Kasparov_Magath_1985_Hamburg-2.png/220px-Kasparov_Magath_1985_Hamburg-2.png\" srcset=\"//upload.wikimedia.org/wikipedia/commons/thumb/6/6f/Kasparov_Magath_1985_Hamburg-2.png/330px-Kasparov_Magath_1985_Hamburg-2.png 1.5x, //upload.wikimedia.org/wikipedia/commons/thumb/6/6f/Kasparov_Magath_1985_Hamburg-2.png/440px-Kasparov_Magath_1985_Hamburg-2.png 2x\" width=\"220\"/>,\n",
       " <img alt=\"\" class=\"thumbimage\" data-file-height=\"2756\" data-file-width=\"2067\" decoding=\"async\" height=\"293\" src=\"//upload.wikimedia.org/wikipedia/commons/thumb/8/83/One_of_Deep_Blue%27s_processors_%282586060990%29.jpg/220px-One_of_Deep_Blue%27s_processors_%282586060990%29.jpg\" srcset=\"//upload.wikimedia.org/wikipedia/commons/thumb/8/83/One_of_Deep_Blue%27s_processors_%282586060990%29.jpg/330px-One_of_Deep_Blue%27s_processors_%282586060990%29.jpg 1.5x, //upload.wikimedia.org/wikipedia/commons/thumb/8/83/One_of_Deep_Blue%27s_processors_%282586060990%29.jpg/440px-One_of_Deep_Blue%27s_processors_%282586060990%29.jpg 2x\" width=\"220\"/>]"
      ]
     },
     "execution_count": 22,
     "metadata": {},
     "output_type": "execute_result"
    }
   ],
   "source": [
    "image_info"
   ]
  },
  {
   "cell_type": "code",
   "execution_count": 23,
   "id": "d0423d39",
   "metadata": {},
   "outputs": [
    {
     "data": {
      "text/plain": [
       "2"
      ]
     },
     "execution_count": 23,
     "metadata": {},
     "output_type": "execute_result"
    }
   ],
   "source": [
    "len(image_info)"
   ]
  },
  {
   "cell_type": "code",
   "execution_count": 24,
   "id": "789c9d1a",
   "metadata": {},
   "outputs": [],
   "source": [
    "computer = image_info[0]"
   ]
  },
  {
   "cell_type": "code",
   "execution_count": 25,
   "id": "f1a8d206",
   "metadata": {},
   "outputs": [
    {
     "data": {
      "text/plain": [
       "'//upload.wikimedia.org/wikipedia/commons/thumb/6/6f/Kasparov_Magath_1985_Hamburg-2.png/220px-Kasparov_Magath_1985_Hamburg-2.png'"
      ]
     },
     "execution_count": 25,
     "metadata": {},
     "output_type": "execute_result"
    }
   ],
   "source": [
    "computer['src']"
   ]
  },
  {
   "cell_type": "markdown",
   "id": "43ab031b",
   "metadata": {},
   "source": [
    "<img src='//upload.wikimedia.org/wikipedia/commons/thumb/6/6f/Kasparov_Magath_1985_Hamburg-2.png/220px-Kasparov_Magath_1985_Hamburg-2.png'>"
   ]
  },
  {
   "cell_type": "code",
   "execution_count": null,
   "id": "11664f69",
   "metadata": {},
   "outputs": [],
   "source": []
  },
  {
   "cell_type": "code",
   "execution_count": null,
   "id": "d9eff4eb",
   "metadata": {},
   "outputs": [],
   "source": []
  },
  {
   "cell_type": "code",
   "execution_count": null,
   "id": "cbcaa18d",
   "metadata": {},
   "outputs": [],
   "source": []
  },
  {
   "cell_type": "code",
   "execution_count": null,
   "id": "f52aadb6",
   "metadata": {},
   "outputs": [],
   "source": [
    "\n",
    "\n",
    "\n",
    "\n",
    "\n",
    "\n",
    "\n",
    "\n",
    "\n",
    "\n",
    "\n"
   ]
  }
 ],
 "metadata": {
  "kernelspec": {
   "display_name": "Python 3 (ipykernel)",
   "language": "python",
   "name": "python3"
  },
  "language_info": {
   "codemirror_mode": {
    "name": "ipython",
    "version": 3
   },
   "file_extension": ".py",
   "mimetype": "text/x-python",
   "name": "python",
   "nbconvert_exporter": "python",
   "pygments_lexer": "ipython3",
   "version": "3.9.7"
  }
 },
 "nbformat": 4,
 "nbformat_minor": 5
}
